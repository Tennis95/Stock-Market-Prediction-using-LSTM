{
  "nbformat": 4,
  "nbformat_minor": 0,
  "metadata": {
    "colab": {
      "provenance": [],
      "mount_file_id": "1D70VmMIUdN7Tv-S3Vb4kYtBLM5nZmgba",
      "authorship_tag": "ABX9TyONDYYv5F1jcmO6/wE88v9Q",
      "include_colab_link": true
    },
    "kernelspec": {
      "name": "python3",
      "display_name": "Python 3"
    },
    "language_info": {
      "name": "python"
    }
  },
  "cells": [
    {
      "cell_type": "markdown",
      "metadata": {
        "id": "view-in-github",
        "colab_type": "text"
      },
      "source": [
        "<a href=\"https://colab.research.google.com/github/Tennis95/Stock-Market-Prediction-using-LSTM/blob/main/Stock_Market_Predicition.ipynb\" target=\"_parent\"><img src=\"https://colab.research.google.com/assets/colab-badge.svg\" alt=\"Open In Colab\"/></a>"
      ]
    },
    {
      "cell_type": "markdown",
      "source": [
        "# **Install packages**"
      ],
      "metadata": {
        "id": "to0B4Qm0W826"
      }
    },
    {
      "cell_type": "code",
      "source": [
        "from google.colab import drive\n",
        "drive.mount('/content/drive')"
      ],
      "metadata": {
        "colab": {
          "base_uri": "https://localhost:8080/"
        },
        "id": "oIwRH0J5J6kM",
        "outputId": "9a95b6d4-b3ff-4b98-ba43-70cd34e8703f"
      },
      "execution_count": null,
      "outputs": [
        {
          "output_type": "stream",
          "name": "stdout",
          "text": [
            "Drive already mounted at /content/drive; to attempt to forcibly remount, call drive.mount(\"/content/drive\", force_remount=True).\n"
          ]
        }
      ]
    },
    {
      "cell_type": "markdown",
      "source": [
        "We install the packages we need, including statsmodels and sklearn"
      ],
      "metadata": {
        "id": "kz87V6ZtXD8J"
      }
    },
    {
      "cell_type": "code",
      "source": [
        "import pandas as pd\n",
        "import numpy as np\n",
        "import matplotlib.pyplot as plt\n",
        "import seaborn as sns\n",
        "from sklearn.preprocessing import MinMaxScaler\n",
        "from tensorflow.keras.models import Sequential\n",
        "from tensorflow.keras.layers import LSTM, Dense, Dropout"
      ],
      "metadata": {
        "id": "dOOcFkNB3N1k"
      },
      "execution_count": null,
      "outputs": []
    },
    {
      "cell_type": "markdown",
      "source": [
        "# **Load the data**"
      ],
      "metadata": {
        "id": "4eX0H8N9XOM0"
      }
    },
    {
      "cell_type": "markdown",
      "source": [
        "We then read the data into our local environment. I'm taking the extra step to make sure the dates are recognized in order"
      ],
      "metadata": {
        "id": "0XvRGtQcXjj8"
      }
    },
    {
      "cell_type": "code",
      "source": [
        "file_path = 'Stock Market Predicition.xlsx'\n",
        "stock_data = pd.read_excel('/content/drive/MyDrive/StockMarket.xlsx')"
      ],
      "metadata": {
        "id": "z7vvFOS33TDz"
      },
      "execution_count": null,
      "outputs": []
    },
    {
      "cell_type": "code",
      "source": [
        "stock_data.head()"
      ],
      "metadata": {
        "colab": {
          "base_uri": "https://localhost:8080/",
          "height": 355
        },
        "id": "u1NTHsJZ3Wnq",
        "outputId": "ad2edf6d-db27-4844-ed4f-79a9b1eb96a3"
      },
      "execution_count": null,
      "outputs": [
        {
          "output_type": "execute_result",
          "data": {
            "text/plain": [
              "        Date      Open      High       Low     Close  Adj Close    Volume  \\\n",
              "0 2005-02-03  0.000327  0.000327  0.000406  0.000335   0.000268  0.279954   \n",
              "1 2005-02-03  0.000327  0.000261  0.000406  0.000335   0.000335  0.176700   \n",
              "2 2005-02-03  0.000327  0.000327  0.000406  0.000402   0.000335  0.545546   \n",
              "3 2005-02-03  0.000262  0.000261  0.000339  0.000268   0.000268  0.126542   \n",
              "4 2005-02-03  0.000262  0.000196  0.000339  0.000268   0.000268  0.141838   \n",
              "\n",
              "   Year  Month  Day  ...  Daily_Return  Volatility  Price_Change  Anomaly  \\\n",
              "0  2005      1    3  ...      0.000000         0.0      0.000000    False   \n",
              "1  2005      2    3  ...      0.000000         0.0      0.000000    False   \n",
              "2  2005      2    2  ...      0.200000         0.0      0.000067    False   \n",
              "3  2005      2    1  ...     -0.333333         0.0     -0.000134    False   \n",
              "4  2005      1   31  ...      0.000000         0.0      0.000000    False   \n",
              "\n",
              "   Volume_Spike  Buy_Signal  Sell_Signal  Trade_Buy_Price  Trade_Sell_Price  \\\n",
              "0         False           0            0              0.0               0.0   \n",
              "1         False           0            0              0.0               0.0   \n",
              "2         False           0            0              0.0               0.0   \n",
              "3         False           0            0              0.0               0.0   \n",
              "4         False           0            0              0.0               0.0   \n",
              "\n",
              "   Trade_Profit_%  \n",
              "0             0.0  \n",
              "1             0.0  \n",
              "2             0.0  \n",
              "3             0.0  \n",
              "4             0.0  \n",
              "\n",
              "[5 rows x 25 columns]"
            ],
            "text/html": [
              "\n",
              "  <div id=\"df-82b35054-0a4e-42aa-8518-2e3b9c1d7c20\" class=\"colab-df-container\">\n",
              "    <div>\n",
              "<style scoped>\n",
              "    .dataframe tbody tr th:only-of-type {\n",
              "        vertical-align: middle;\n",
              "    }\n",
              "\n",
              "    .dataframe tbody tr th {\n",
              "        vertical-align: top;\n",
              "    }\n",
              "\n",
              "    .dataframe thead th {\n",
              "        text-align: right;\n",
              "    }\n",
              "</style>\n",
              "<table border=\"1\" class=\"dataframe\">\n",
              "  <thead>\n",
              "    <tr style=\"text-align: right;\">\n",
              "      <th></th>\n",
              "      <th>Date</th>\n",
              "      <th>Open</th>\n",
              "      <th>High</th>\n",
              "      <th>Low</th>\n",
              "      <th>Close</th>\n",
              "      <th>Adj Close</th>\n",
              "      <th>Volume</th>\n",
              "      <th>Year</th>\n",
              "      <th>Month</th>\n",
              "      <th>Day</th>\n",
              "      <th>...</th>\n",
              "      <th>Daily_Return</th>\n",
              "      <th>Volatility</th>\n",
              "      <th>Price_Change</th>\n",
              "      <th>Anomaly</th>\n",
              "      <th>Volume_Spike</th>\n",
              "      <th>Buy_Signal</th>\n",
              "      <th>Sell_Signal</th>\n",
              "      <th>Trade_Buy_Price</th>\n",
              "      <th>Trade_Sell_Price</th>\n",
              "      <th>Trade_Profit_%</th>\n",
              "    </tr>\n",
              "  </thead>\n",
              "  <tbody>\n",
              "    <tr>\n",
              "      <th>0</th>\n",
              "      <td>2005-02-03</td>\n",
              "      <td>0.000327</td>\n",
              "      <td>0.000327</td>\n",
              "      <td>0.000406</td>\n",
              "      <td>0.000335</td>\n",
              "      <td>0.000268</td>\n",
              "      <td>0.279954</td>\n",
              "      <td>2005</td>\n",
              "      <td>1</td>\n",
              "      <td>3</td>\n",
              "      <td>...</td>\n",
              "      <td>0.000000</td>\n",
              "      <td>0.0</td>\n",
              "      <td>0.000000</td>\n",
              "      <td>False</td>\n",
              "      <td>False</td>\n",
              "      <td>0</td>\n",
              "      <td>0</td>\n",
              "      <td>0.0</td>\n",
              "      <td>0.0</td>\n",
              "      <td>0.0</td>\n",
              "    </tr>\n",
              "    <tr>\n",
              "      <th>1</th>\n",
              "      <td>2005-02-03</td>\n",
              "      <td>0.000327</td>\n",
              "      <td>0.000261</td>\n",
              "      <td>0.000406</td>\n",
              "      <td>0.000335</td>\n",
              "      <td>0.000335</td>\n",
              "      <td>0.176700</td>\n",
              "      <td>2005</td>\n",
              "      <td>2</td>\n",
              "      <td>3</td>\n",
              "      <td>...</td>\n",
              "      <td>0.000000</td>\n",
              "      <td>0.0</td>\n",
              "      <td>0.000000</td>\n",
              "      <td>False</td>\n",
              "      <td>False</td>\n",
              "      <td>0</td>\n",
              "      <td>0</td>\n",
              "      <td>0.0</td>\n",
              "      <td>0.0</td>\n",
              "      <td>0.0</td>\n",
              "    </tr>\n",
              "    <tr>\n",
              "      <th>2</th>\n",
              "      <td>2005-02-03</td>\n",
              "      <td>0.000327</td>\n",
              "      <td>0.000327</td>\n",
              "      <td>0.000406</td>\n",
              "      <td>0.000402</td>\n",
              "      <td>0.000335</td>\n",
              "      <td>0.545546</td>\n",
              "      <td>2005</td>\n",
              "      <td>2</td>\n",
              "      <td>2</td>\n",
              "      <td>...</td>\n",
              "      <td>0.200000</td>\n",
              "      <td>0.0</td>\n",
              "      <td>0.000067</td>\n",
              "      <td>False</td>\n",
              "      <td>False</td>\n",
              "      <td>0</td>\n",
              "      <td>0</td>\n",
              "      <td>0.0</td>\n",
              "      <td>0.0</td>\n",
              "      <td>0.0</td>\n",
              "    </tr>\n",
              "    <tr>\n",
              "      <th>3</th>\n",
              "      <td>2005-02-03</td>\n",
              "      <td>0.000262</td>\n",
              "      <td>0.000261</td>\n",
              "      <td>0.000339</td>\n",
              "      <td>0.000268</td>\n",
              "      <td>0.000268</td>\n",
              "      <td>0.126542</td>\n",
              "      <td>2005</td>\n",
              "      <td>2</td>\n",
              "      <td>1</td>\n",
              "      <td>...</td>\n",
              "      <td>-0.333333</td>\n",
              "      <td>0.0</td>\n",
              "      <td>-0.000134</td>\n",
              "      <td>False</td>\n",
              "      <td>False</td>\n",
              "      <td>0</td>\n",
              "      <td>0</td>\n",
              "      <td>0.0</td>\n",
              "      <td>0.0</td>\n",
              "      <td>0.0</td>\n",
              "    </tr>\n",
              "    <tr>\n",
              "      <th>4</th>\n",
              "      <td>2005-02-03</td>\n",
              "      <td>0.000262</td>\n",
              "      <td>0.000196</td>\n",
              "      <td>0.000339</td>\n",
              "      <td>0.000268</td>\n",
              "      <td>0.000268</td>\n",
              "      <td>0.141838</td>\n",
              "      <td>2005</td>\n",
              "      <td>1</td>\n",
              "      <td>31</td>\n",
              "      <td>...</td>\n",
              "      <td>0.000000</td>\n",
              "      <td>0.0</td>\n",
              "      <td>0.000000</td>\n",
              "      <td>False</td>\n",
              "      <td>False</td>\n",
              "      <td>0</td>\n",
              "      <td>0</td>\n",
              "      <td>0.0</td>\n",
              "      <td>0.0</td>\n",
              "      <td>0.0</td>\n",
              "    </tr>\n",
              "  </tbody>\n",
              "</table>\n",
              "<p>5 rows × 25 columns</p>\n",
              "</div>\n",
              "    <div class=\"colab-df-buttons\">\n",
              "\n",
              "  <div class=\"colab-df-container\">\n",
              "    <button class=\"colab-df-convert\" onclick=\"convertToInteractive('df-82b35054-0a4e-42aa-8518-2e3b9c1d7c20')\"\n",
              "            title=\"Convert this dataframe to an interactive table.\"\n",
              "            style=\"display:none;\">\n",
              "\n",
              "  <svg xmlns=\"http://www.w3.org/2000/svg\" height=\"24px\" viewBox=\"0 -960 960 960\">\n",
              "    <path d=\"M120-120v-720h720v720H120Zm60-500h600v-160H180v160Zm220 220h160v-160H400v160Zm0 220h160v-160H400v160ZM180-400h160v-160H180v160Zm440 0h160v-160H620v160ZM180-180h160v-160H180v160Zm440 0h160v-160H620v160Z\"/>\n",
              "  </svg>\n",
              "    </button>\n",
              "\n",
              "  <style>\n",
              "    .colab-df-container {\n",
              "      display:flex;\n",
              "      gap: 12px;\n",
              "    }\n",
              "\n",
              "    .colab-df-convert {\n",
              "      background-color: #E8F0FE;\n",
              "      border: none;\n",
              "      border-radius: 50%;\n",
              "      cursor: pointer;\n",
              "      display: none;\n",
              "      fill: #1967D2;\n",
              "      height: 32px;\n",
              "      padding: 0 0 0 0;\n",
              "      width: 32px;\n",
              "    }\n",
              "\n",
              "    .colab-df-convert:hover {\n",
              "      background-color: #E2EBFA;\n",
              "      box-shadow: 0px 1px 2px rgba(60, 64, 67, 0.3), 0px 1px 3px 1px rgba(60, 64, 67, 0.15);\n",
              "      fill: #174EA6;\n",
              "    }\n",
              "\n",
              "    .colab-df-buttons div {\n",
              "      margin-bottom: 4px;\n",
              "    }\n",
              "\n",
              "    [theme=dark] .colab-df-convert {\n",
              "      background-color: #3B4455;\n",
              "      fill: #D2E3FC;\n",
              "    }\n",
              "\n",
              "    [theme=dark] .colab-df-convert:hover {\n",
              "      background-color: #434B5C;\n",
              "      box-shadow: 0px 1px 3px 1px rgba(0, 0, 0, 0.15);\n",
              "      filter: drop-shadow(0px 1px 2px rgba(0, 0, 0, 0.3));\n",
              "      fill: #FFFFFF;\n",
              "    }\n",
              "  </style>\n",
              "\n",
              "    <script>\n",
              "      const buttonEl =\n",
              "        document.querySelector('#df-82b35054-0a4e-42aa-8518-2e3b9c1d7c20 button.colab-df-convert');\n",
              "      buttonEl.style.display =\n",
              "        google.colab.kernel.accessAllowed ? 'block' : 'none';\n",
              "\n",
              "      async function convertToInteractive(key) {\n",
              "        const element = document.querySelector('#df-82b35054-0a4e-42aa-8518-2e3b9c1d7c20');\n",
              "        const dataTable =\n",
              "          await google.colab.kernel.invokeFunction('convertToInteractive',\n",
              "                                                    [key], {});\n",
              "        if (!dataTable) return;\n",
              "\n",
              "        const docLinkHtml = 'Like what you see? Visit the ' +\n",
              "          '<a target=\"_blank\" href=https://colab.research.google.com/notebooks/data_table.ipynb>data table notebook</a>'\n",
              "          + ' to learn more about interactive tables.';\n",
              "        element.innerHTML = '';\n",
              "        dataTable['output_type'] = 'display_data';\n",
              "        await google.colab.output.renderOutput(dataTable, element);\n",
              "        const docLink = document.createElement('div');\n",
              "        docLink.innerHTML = docLinkHtml;\n",
              "        element.appendChild(docLink);\n",
              "      }\n",
              "    </script>\n",
              "  </div>\n",
              "\n",
              "\n",
              "<div id=\"df-aebb559d-61b1-4fb7-b22c-13904f304361\">\n",
              "  <button class=\"colab-df-quickchart\" onclick=\"quickchart('df-aebb559d-61b1-4fb7-b22c-13904f304361')\"\n",
              "            title=\"Suggest charts\"\n",
              "            style=\"display:none;\">\n",
              "\n",
              "<svg xmlns=\"http://www.w3.org/2000/svg\" height=\"24px\"viewBox=\"0 0 24 24\"\n",
              "     width=\"24px\">\n",
              "    <g>\n",
              "        <path d=\"M19 3H5c-1.1 0-2 .9-2 2v14c0 1.1.9 2 2 2h14c1.1 0 2-.9 2-2V5c0-1.1-.9-2-2-2zM9 17H7v-7h2v7zm4 0h-2V7h2v10zm4 0h-2v-4h2v4z\"/>\n",
              "    </g>\n",
              "</svg>\n",
              "  </button>\n",
              "\n",
              "<style>\n",
              "  .colab-df-quickchart {\n",
              "      --bg-color: #E8F0FE;\n",
              "      --fill-color: #1967D2;\n",
              "      --hover-bg-color: #E2EBFA;\n",
              "      --hover-fill-color: #174EA6;\n",
              "      --disabled-fill-color: #AAA;\n",
              "      --disabled-bg-color: #DDD;\n",
              "  }\n",
              "\n",
              "  [theme=dark] .colab-df-quickchart {\n",
              "      --bg-color: #3B4455;\n",
              "      --fill-color: #D2E3FC;\n",
              "      --hover-bg-color: #434B5C;\n",
              "      --hover-fill-color: #FFFFFF;\n",
              "      --disabled-bg-color: #3B4455;\n",
              "      --disabled-fill-color: #666;\n",
              "  }\n",
              "\n",
              "  .colab-df-quickchart {\n",
              "    background-color: var(--bg-color);\n",
              "    border: none;\n",
              "    border-radius: 50%;\n",
              "    cursor: pointer;\n",
              "    display: none;\n",
              "    fill: var(--fill-color);\n",
              "    height: 32px;\n",
              "    padding: 0;\n",
              "    width: 32px;\n",
              "  }\n",
              "\n",
              "  .colab-df-quickchart:hover {\n",
              "    background-color: var(--hover-bg-color);\n",
              "    box-shadow: 0 1px 2px rgba(60, 64, 67, 0.3), 0 1px 3px 1px rgba(60, 64, 67, 0.15);\n",
              "    fill: var(--button-hover-fill-color);\n",
              "  }\n",
              "\n",
              "  .colab-df-quickchart-complete:disabled,\n",
              "  .colab-df-quickchart-complete:disabled:hover {\n",
              "    background-color: var(--disabled-bg-color);\n",
              "    fill: var(--disabled-fill-color);\n",
              "    box-shadow: none;\n",
              "  }\n",
              "\n",
              "  .colab-df-spinner {\n",
              "    border: 2px solid var(--fill-color);\n",
              "    border-color: transparent;\n",
              "    border-bottom-color: var(--fill-color);\n",
              "    animation:\n",
              "      spin 1s steps(1) infinite;\n",
              "  }\n",
              "\n",
              "  @keyframes spin {\n",
              "    0% {\n",
              "      border-color: transparent;\n",
              "      border-bottom-color: var(--fill-color);\n",
              "      border-left-color: var(--fill-color);\n",
              "    }\n",
              "    20% {\n",
              "      border-color: transparent;\n",
              "      border-left-color: var(--fill-color);\n",
              "      border-top-color: var(--fill-color);\n",
              "    }\n",
              "    30% {\n",
              "      border-color: transparent;\n",
              "      border-left-color: var(--fill-color);\n",
              "      border-top-color: var(--fill-color);\n",
              "      border-right-color: var(--fill-color);\n",
              "    }\n",
              "    40% {\n",
              "      border-color: transparent;\n",
              "      border-right-color: var(--fill-color);\n",
              "      border-top-color: var(--fill-color);\n",
              "    }\n",
              "    60% {\n",
              "      border-color: transparent;\n",
              "      border-right-color: var(--fill-color);\n",
              "    }\n",
              "    80% {\n",
              "      border-color: transparent;\n",
              "      border-right-color: var(--fill-color);\n",
              "      border-bottom-color: var(--fill-color);\n",
              "    }\n",
              "    90% {\n",
              "      border-color: transparent;\n",
              "      border-bottom-color: var(--fill-color);\n",
              "    }\n",
              "  }\n",
              "</style>\n",
              "\n",
              "  <script>\n",
              "    async function quickchart(key) {\n",
              "      const quickchartButtonEl =\n",
              "        document.querySelector('#' + key + ' button');\n",
              "      quickchartButtonEl.disabled = true;  // To prevent multiple clicks.\n",
              "      quickchartButtonEl.classList.add('colab-df-spinner');\n",
              "      try {\n",
              "        const charts = await google.colab.kernel.invokeFunction(\n",
              "            'suggestCharts', [key], {});\n",
              "      } catch (error) {\n",
              "        console.error('Error during call to suggestCharts:', error);\n",
              "      }\n",
              "      quickchartButtonEl.classList.remove('colab-df-spinner');\n",
              "      quickchartButtonEl.classList.add('colab-df-quickchart-complete');\n",
              "    }\n",
              "    (() => {\n",
              "      let quickchartButtonEl =\n",
              "        document.querySelector('#df-aebb559d-61b1-4fb7-b22c-13904f304361 button');\n",
              "      quickchartButtonEl.style.display =\n",
              "        google.colab.kernel.accessAllowed ? 'block' : 'none';\n",
              "    })();\n",
              "  </script>\n",
              "</div>\n",
              "\n",
              "    </div>\n",
              "  </div>\n"
            ],
            "application/vnd.google.colaboratory.intrinsic+json": {
              "type": "dataframe",
              "variable_name": "stock_data"
            }
          },
          "metadata": {},
          "execution_count": 4
        }
      ]
    },
    {
      "cell_type": "markdown",
      "source": [
        "# **Descriptive Statistics about the Data**"
      ],
      "metadata": {
        "id": "H4Cf4gKG3r_K"
      }
    },
    {
      "cell_type": "markdown",
      "source": [
        ".describe() generates descriptive statistics. Descriptive statistics include those that summarize the central tendency, dispersion, and shape of a dataset’s distribution, excluding NaN values.\n",
        "\n",
        "Analyzes both numeric and object series, as well as DataFrame column sets of mixed data types. The output will vary depending on what is provided. Refer to the notes below for more detail"
      ],
      "metadata": {
        "id": "816ddwUR35Ix"
      }
    },
    {
      "cell_type": "code",
      "source": [
        "stock_data.describe()"
      ],
      "metadata": {
        "colab": {
          "base_uri": "https://localhost:8080/",
          "height": 448
        },
        "id": "2nFVemQx3g_N",
        "outputId": "fe69db31-35af-4cba-ad63-08628bbc505c"
      },
      "execution_count": null,
      "outputs": [
        {
          "output_type": "execute_result",
          "data": {
            "text/plain": [
              "                                Date         Open         High          Low  \\\n",
              "count                           5106  5106.000000  5106.000000  5106.000000   \n",
              "mean   2015-01-28 16:15:30.669800192     0.072249     0.073461     0.073325   \n",
              "min              2005-02-03 00:00:00     0.000000     0.000000     0.000000   \n",
              "25%              2010-01-26 06:00:00     0.001439     0.001438     0.001490   \n",
              "50%              2015-02-07 12:00:00     0.003074     0.003138     0.003183   \n",
              "75%              2020-02-04 18:00:00     0.042566     0.043129     0.043405   \n",
              "max              2025-01-31 00:00:00     1.000000     1.000000     1.000000   \n",
              "std                              NaN     0.172285     0.175199     0.174528   \n",
              "\n",
              "             Close    Adj Close       Volume         Year        Month  \\\n",
              "count  5106.000000  5106.000000  5106.000000  5106.000000  5106.000000   \n",
              "mean      0.073964     0.073824     0.135880  2014.576185     6.527419   \n",
              "min       0.000000     0.000000     0.000000  2005.000000     1.000000   \n",
              "25%       0.001474     0.001340     0.078896  2010.000000     4.000000   \n",
              "50%       0.003215     0.002947     0.117371  2015.000000     7.000000   \n",
              "75%       0.043660     0.043389     0.168958  2020.000000    10.000000   \n",
              "max       1.000000     1.000000     1.000000  2025.000000    12.000000   \n",
              "std       0.176183     0.176196     0.088175     5.788889     3.435331   \n",
              "\n",
              "               Day  ...         MA_7        MA_30  Daily_Return   Volatility  \\\n",
              "count  5106.000000  ...  5106.000000  5106.000000   5106.000000  5106.000000   \n",
              "mean     15.750490  ...     0.075615     0.080354           inf     0.045947   \n",
              "min       1.000000  ...     0.000000     0.000000     -1.000000     0.000000   \n",
              "25%       8.000000  ...     0.001392     0.001293     -0.016555     0.025307   \n",
              "50%      16.000000  ...     0.003134     0.003219      0.000000     0.035905   \n",
              "75%      23.000000  ...     0.044560     0.045603      0.022422     0.049292   \n",
              "max      31.000000  ...     1.000000     1.000000           inf     0.560340   \n",
              "std       8.758084  ...     0.180036     0.190826           NaN     0.045119   \n",
              "\n",
              "       Price_Change   Buy_Signal  Sell_Signal  Trade_Buy_Price  \\\n",
              "count   5106.000000  5106.000000  5106.000000      5106.000000   \n",
              "mean       0.000157     0.000392     0.000196         0.000205   \n",
              "min       -0.162111     0.000000     0.000000         0.000000   \n",
              "25%       -0.000067     0.000000     0.000000         0.000000   \n",
              "50%        0.000000     0.000000     0.000000         0.000000   \n",
              "75%        0.000134     0.000000     0.000000         0.000000   \n",
              "max        0.089027     1.000000     1.000000         0.792270   \n",
              "std        0.006452     0.019789     0.013995         0.011640   \n",
              "\n",
              "       Trade_Sell_Price  Trade_Profit_%  \n",
              "count       5106.000000     5106.000000  \n",
              "mean           0.000221        0.002853  \n",
              "min            0.000000        0.000000  \n",
              "25%            0.000000        0.000000  \n",
              "50%            0.000000        0.000000  \n",
              "75%            0.000000        0.000000  \n",
              "max            0.863076        8.937178  \n",
              "std            0.012645        0.147810  \n",
              "\n",
              "[8 rows x 23 columns]"
            ],
            "text/html": [
              "\n",
              "  <div id=\"df-514c6fde-63fb-4012-aa52-819dbe505941\" class=\"colab-df-container\">\n",
              "    <div>\n",
              "<style scoped>\n",
              "    .dataframe tbody tr th:only-of-type {\n",
              "        vertical-align: middle;\n",
              "    }\n",
              "\n",
              "    .dataframe tbody tr th {\n",
              "        vertical-align: top;\n",
              "    }\n",
              "\n",
              "    .dataframe thead th {\n",
              "        text-align: right;\n",
              "    }\n",
              "</style>\n",
              "<table border=\"1\" class=\"dataframe\">\n",
              "  <thead>\n",
              "    <tr style=\"text-align: right;\">\n",
              "      <th></th>\n",
              "      <th>Date</th>\n",
              "      <th>Open</th>\n",
              "      <th>High</th>\n",
              "      <th>Low</th>\n",
              "      <th>Close</th>\n",
              "      <th>Adj Close</th>\n",
              "      <th>Volume</th>\n",
              "      <th>Year</th>\n",
              "      <th>Month</th>\n",
              "      <th>Day</th>\n",
              "      <th>...</th>\n",
              "      <th>MA_7</th>\n",
              "      <th>MA_30</th>\n",
              "      <th>Daily_Return</th>\n",
              "      <th>Volatility</th>\n",
              "      <th>Price_Change</th>\n",
              "      <th>Buy_Signal</th>\n",
              "      <th>Sell_Signal</th>\n",
              "      <th>Trade_Buy_Price</th>\n",
              "      <th>Trade_Sell_Price</th>\n",
              "      <th>Trade_Profit_%</th>\n",
              "    </tr>\n",
              "  </thead>\n",
              "  <tbody>\n",
              "    <tr>\n",
              "      <th>count</th>\n",
              "      <td>5106</td>\n",
              "      <td>5106.000000</td>\n",
              "      <td>5106.000000</td>\n",
              "      <td>5106.000000</td>\n",
              "      <td>5106.000000</td>\n",
              "      <td>5106.000000</td>\n",
              "      <td>5106.000000</td>\n",
              "      <td>5106.000000</td>\n",
              "      <td>5106.000000</td>\n",
              "      <td>5106.000000</td>\n",
              "      <td>...</td>\n",
              "      <td>5106.000000</td>\n",
              "      <td>5106.000000</td>\n",
              "      <td>5106.000000</td>\n",
              "      <td>5106.000000</td>\n",
              "      <td>5106.000000</td>\n",
              "      <td>5106.000000</td>\n",
              "      <td>5106.000000</td>\n",
              "      <td>5106.000000</td>\n",
              "      <td>5106.000000</td>\n",
              "      <td>5106.000000</td>\n",
              "    </tr>\n",
              "    <tr>\n",
              "      <th>mean</th>\n",
              "      <td>2015-01-28 16:15:30.669800192</td>\n",
              "      <td>0.072249</td>\n",
              "      <td>0.073461</td>\n",
              "      <td>0.073325</td>\n",
              "      <td>0.073964</td>\n",
              "      <td>0.073824</td>\n",
              "      <td>0.135880</td>\n",
              "      <td>2014.576185</td>\n",
              "      <td>6.527419</td>\n",
              "      <td>15.750490</td>\n",
              "      <td>...</td>\n",
              "      <td>0.075615</td>\n",
              "      <td>0.080354</td>\n",
              "      <td>inf</td>\n",
              "      <td>0.045947</td>\n",
              "      <td>0.000157</td>\n",
              "      <td>0.000392</td>\n",
              "      <td>0.000196</td>\n",
              "      <td>0.000205</td>\n",
              "      <td>0.000221</td>\n",
              "      <td>0.002853</td>\n",
              "    </tr>\n",
              "    <tr>\n",
              "      <th>min</th>\n",
              "      <td>2005-02-03 00:00:00</td>\n",
              "      <td>0.000000</td>\n",
              "      <td>0.000000</td>\n",
              "      <td>0.000000</td>\n",
              "      <td>0.000000</td>\n",
              "      <td>0.000000</td>\n",
              "      <td>0.000000</td>\n",
              "      <td>2005.000000</td>\n",
              "      <td>1.000000</td>\n",
              "      <td>1.000000</td>\n",
              "      <td>...</td>\n",
              "      <td>0.000000</td>\n",
              "      <td>0.000000</td>\n",
              "      <td>-1.000000</td>\n",
              "      <td>0.000000</td>\n",
              "      <td>-0.162111</td>\n",
              "      <td>0.000000</td>\n",
              "      <td>0.000000</td>\n",
              "      <td>0.000000</td>\n",
              "      <td>0.000000</td>\n",
              "      <td>0.000000</td>\n",
              "    </tr>\n",
              "    <tr>\n",
              "      <th>25%</th>\n",
              "      <td>2010-01-26 06:00:00</td>\n",
              "      <td>0.001439</td>\n",
              "      <td>0.001438</td>\n",
              "      <td>0.001490</td>\n",
              "      <td>0.001474</td>\n",
              "      <td>0.001340</td>\n",
              "      <td>0.078896</td>\n",
              "      <td>2010.000000</td>\n",
              "      <td>4.000000</td>\n",
              "      <td>8.000000</td>\n",
              "      <td>...</td>\n",
              "      <td>0.001392</td>\n",
              "      <td>0.001293</td>\n",
              "      <td>-0.016555</td>\n",
              "      <td>0.025307</td>\n",
              "      <td>-0.000067</td>\n",
              "      <td>0.000000</td>\n",
              "      <td>0.000000</td>\n",
              "      <td>0.000000</td>\n",
              "      <td>0.000000</td>\n",
              "      <td>0.000000</td>\n",
              "    </tr>\n",
              "    <tr>\n",
              "      <th>50%</th>\n",
              "      <td>2015-02-07 12:00:00</td>\n",
              "      <td>0.003074</td>\n",
              "      <td>0.003138</td>\n",
              "      <td>0.003183</td>\n",
              "      <td>0.003215</td>\n",
              "      <td>0.002947</td>\n",
              "      <td>0.117371</td>\n",
              "      <td>2015.000000</td>\n",
              "      <td>7.000000</td>\n",
              "      <td>16.000000</td>\n",
              "      <td>...</td>\n",
              "      <td>0.003134</td>\n",
              "      <td>0.003219</td>\n",
              "      <td>0.000000</td>\n",
              "      <td>0.035905</td>\n",
              "      <td>0.000000</td>\n",
              "      <td>0.000000</td>\n",
              "      <td>0.000000</td>\n",
              "      <td>0.000000</td>\n",
              "      <td>0.000000</td>\n",
              "      <td>0.000000</td>\n",
              "    </tr>\n",
              "    <tr>\n",
              "      <th>75%</th>\n",
              "      <td>2020-02-04 18:00:00</td>\n",
              "      <td>0.042566</td>\n",
              "      <td>0.043129</td>\n",
              "      <td>0.043405</td>\n",
              "      <td>0.043660</td>\n",
              "      <td>0.043389</td>\n",
              "      <td>0.168958</td>\n",
              "      <td>2020.000000</td>\n",
              "      <td>10.000000</td>\n",
              "      <td>23.000000</td>\n",
              "      <td>...</td>\n",
              "      <td>0.044560</td>\n",
              "      <td>0.045603</td>\n",
              "      <td>0.022422</td>\n",
              "      <td>0.049292</td>\n",
              "      <td>0.000134</td>\n",
              "      <td>0.000000</td>\n",
              "      <td>0.000000</td>\n",
              "      <td>0.000000</td>\n",
              "      <td>0.000000</td>\n",
              "      <td>0.000000</td>\n",
              "    </tr>\n",
              "    <tr>\n",
              "      <th>max</th>\n",
              "      <td>2025-01-31 00:00:00</td>\n",
              "      <td>1.000000</td>\n",
              "      <td>1.000000</td>\n",
              "      <td>1.000000</td>\n",
              "      <td>1.000000</td>\n",
              "      <td>1.000000</td>\n",
              "      <td>1.000000</td>\n",
              "      <td>2025.000000</td>\n",
              "      <td>12.000000</td>\n",
              "      <td>31.000000</td>\n",
              "      <td>...</td>\n",
              "      <td>1.000000</td>\n",
              "      <td>1.000000</td>\n",
              "      <td>inf</td>\n",
              "      <td>0.560340</td>\n",
              "      <td>0.089027</td>\n",
              "      <td>1.000000</td>\n",
              "      <td>1.000000</td>\n",
              "      <td>0.792270</td>\n",
              "      <td>0.863076</td>\n",
              "      <td>8.937178</td>\n",
              "    </tr>\n",
              "    <tr>\n",
              "      <th>std</th>\n",
              "      <td>NaN</td>\n",
              "      <td>0.172285</td>\n",
              "      <td>0.175199</td>\n",
              "      <td>0.174528</td>\n",
              "      <td>0.176183</td>\n",
              "      <td>0.176196</td>\n",
              "      <td>0.088175</td>\n",
              "      <td>5.788889</td>\n",
              "      <td>3.435331</td>\n",
              "      <td>8.758084</td>\n",
              "      <td>...</td>\n",
              "      <td>0.180036</td>\n",
              "      <td>0.190826</td>\n",
              "      <td>NaN</td>\n",
              "      <td>0.045119</td>\n",
              "      <td>0.006452</td>\n",
              "      <td>0.019789</td>\n",
              "      <td>0.013995</td>\n",
              "      <td>0.011640</td>\n",
              "      <td>0.012645</td>\n",
              "      <td>0.147810</td>\n",
              "    </tr>\n",
              "  </tbody>\n",
              "</table>\n",
              "<p>8 rows × 23 columns</p>\n",
              "</div>\n",
              "    <div class=\"colab-df-buttons\">\n",
              "\n",
              "  <div class=\"colab-df-container\">\n",
              "    <button class=\"colab-df-convert\" onclick=\"convertToInteractive('df-514c6fde-63fb-4012-aa52-819dbe505941')\"\n",
              "            title=\"Convert this dataframe to an interactive table.\"\n",
              "            style=\"display:none;\">\n",
              "\n",
              "  <svg xmlns=\"http://www.w3.org/2000/svg\" height=\"24px\" viewBox=\"0 -960 960 960\">\n",
              "    <path d=\"M120-120v-720h720v720H120Zm60-500h600v-160H180v160Zm220 220h160v-160H400v160Zm0 220h160v-160H400v160ZM180-400h160v-160H180v160Zm440 0h160v-160H620v160ZM180-180h160v-160H180v160Zm440 0h160v-160H620v160Z\"/>\n",
              "  </svg>\n",
              "    </button>\n",
              "\n",
              "  <style>\n",
              "    .colab-df-container {\n",
              "      display:flex;\n",
              "      gap: 12px;\n",
              "    }\n",
              "\n",
              "    .colab-df-convert {\n",
              "      background-color: #E8F0FE;\n",
              "      border: none;\n",
              "      border-radius: 50%;\n",
              "      cursor: pointer;\n",
              "      display: none;\n",
              "      fill: #1967D2;\n",
              "      height: 32px;\n",
              "      padding: 0 0 0 0;\n",
              "      width: 32px;\n",
              "    }\n",
              "\n",
              "    .colab-df-convert:hover {\n",
              "      background-color: #E2EBFA;\n",
              "      box-shadow: 0px 1px 2px rgba(60, 64, 67, 0.3), 0px 1px 3px 1px rgba(60, 64, 67, 0.15);\n",
              "      fill: #174EA6;\n",
              "    }\n",
              "\n",
              "    .colab-df-buttons div {\n",
              "      margin-bottom: 4px;\n",
              "    }\n",
              "\n",
              "    [theme=dark] .colab-df-convert {\n",
              "      background-color: #3B4455;\n",
              "      fill: #D2E3FC;\n",
              "    }\n",
              "\n",
              "    [theme=dark] .colab-df-convert:hover {\n",
              "      background-color: #434B5C;\n",
              "      box-shadow: 0px 1px 3px 1px rgba(0, 0, 0, 0.15);\n",
              "      filter: drop-shadow(0px 1px 2px rgba(0, 0, 0, 0.3));\n",
              "      fill: #FFFFFF;\n",
              "    }\n",
              "  </style>\n",
              "\n",
              "    <script>\n",
              "      const buttonEl =\n",
              "        document.querySelector('#df-514c6fde-63fb-4012-aa52-819dbe505941 button.colab-df-convert');\n",
              "      buttonEl.style.display =\n",
              "        google.colab.kernel.accessAllowed ? 'block' : 'none';\n",
              "\n",
              "      async function convertToInteractive(key) {\n",
              "        const element = document.querySelector('#df-514c6fde-63fb-4012-aa52-819dbe505941');\n",
              "        const dataTable =\n",
              "          await google.colab.kernel.invokeFunction('convertToInteractive',\n",
              "                                                    [key], {});\n",
              "        if (!dataTable) return;\n",
              "\n",
              "        const docLinkHtml = 'Like what you see? Visit the ' +\n",
              "          '<a target=\"_blank\" href=https://colab.research.google.com/notebooks/data_table.ipynb>data table notebook</a>'\n",
              "          + ' to learn more about interactive tables.';\n",
              "        element.innerHTML = '';\n",
              "        dataTable['output_type'] = 'display_data';\n",
              "        await google.colab.output.renderOutput(dataTable, element);\n",
              "        const docLink = document.createElement('div');\n",
              "        docLink.innerHTML = docLinkHtml;\n",
              "        element.appendChild(docLink);\n",
              "      }\n",
              "    </script>\n",
              "  </div>\n",
              "\n",
              "\n",
              "<div id=\"df-bf904018-42e2-4824-86a4-e8b6934ebeec\">\n",
              "  <button class=\"colab-df-quickchart\" onclick=\"quickchart('df-bf904018-42e2-4824-86a4-e8b6934ebeec')\"\n",
              "            title=\"Suggest charts\"\n",
              "            style=\"display:none;\">\n",
              "\n",
              "<svg xmlns=\"http://www.w3.org/2000/svg\" height=\"24px\"viewBox=\"0 0 24 24\"\n",
              "     width=\"24px\">\n",
              "    <g>\n",
              "        <path d=\"M19 3H5c-1.1 0-2 .9-2 2v14c0 1.1.9 2 2 2h14c1.1 0 2-.9 2-2V5c0-1.1-.9-2-2-2zM9 17H7v-7h2v7zm4 0h-2V7h2v10zm4 0h-2v-4h2v4z\"/>\n",
              "    </g>\n",
              "</svg>\n",
              "  </button>\n",
              "\n",
              "<style>\n",
              "  .colab-df-quickchart {\n",
              "      --bg-color: #E8F0FE;\n",
              "      --fill-color: #1967D2;\n",
              "      --hover-bg-color: #E2EBFA;\n",
              "      --hover-fill-color: #174EA6;\n",
              "      --disabled-fill-color: #AAA;\n",
              "      --disabled-bg-color: #DDD;\n",
              "  }\n",
              "\n",
              "  [theme=dark] .colab-df-quickchart {\n",
              "      --bg-color: #3B4455;\n",
              "      --fill-color: #D2E3FC;\n",
              "      --hover-bg-color: #434B5C;\n",
              "      --hover-fill-color: #FFFFFF;\n",
              "      --disabled-bg-color: #3B4455;\n",
              "      --disabled-fill-color: #666;\n",
              "  }\n",
              "\n",
              "  .colab-df-quickchart {\n",
              "    background-color: var(--bg-color);\n",
              "    border: none;\n",
              "    border-radius: 50%;\n",
              "    cursor: pointer;\n",
              "    display: none;\n",
              "    fill: var(--fill-color);\n",
              "    height: 32px;\n",
              "    padding: 0;\n",
              "    width: 32px;\n",
              "  }\n",
              "\n",
              "  .colab-df-quickchart:hover {\n",
              "    background-color: var(--hover-bg-color);\n",
              "    box-shadow: 0 1px 2px rgba(60, 64, 67, 0.3), 0 1px 3px 1px rgba(60, 64, 67, 0.15);\n",
              "    fill: var(--button-hover-fill-color);\n",
              "  }\n",
              "\n",
              "  .colab-df-quickchart-complete:disabled,\n",
              "  .colab-df-quickchart-complete:disabled:hover {\n",
              "    background-color: var(--disabled-bg-color);\n",
              "    fill: var(--disabled-fill-color);\n",
              "    box-shadow: none;\n",
              "  }\n",
              "\n",
              "  .colab-df-spinner {\n",
              "    border: 2px solid var(--fill-color);\n",
              "    border-color: transparent;\n",
              "    border-bottom-color: var(--fill-color);\n",
              "    animation:\n",
              "      spin 1s steps(1) infinite;\n",
              "  }\n",
              "\n",
              "  @keyframes spin {\n",
              "    0% {\n",
              "      border-color: transparent;\n",
              "      border-bottom-color: var(--fill-color);\n",
              "      border-left-color: var(--fill-color);\n",
              "    }\n",
              "    20% {\n",
              "      border-color: transparent;\n",
              "      border-left-color: var(--fill-color);\n",
              "      border-top-color: var(--fill-color);\n",
              "    }\n",
              "    30% {\n",
              "      border-color: transparent;\n",
              "      border-left-color: var(--fill-color);\n",
              "      border-top-color: var(--fill-color);\n",
              "      border-right-color: var(--fill-color);\n",
              "    }\n",
              "    40% {\n",
              "      border-color: transparent;\n",
              "      border-right-color: var(--fill-color);\n",
              "      border-top-color: var(--fill-color);\n",
              "    }\n",
              "    60% {\n",
              "      border-color: transparent;\n",
              "      border-right-color: var(--fill-color);\n",
              "    }\n",
              "    80% {\n",
              "      border-color: transparent;\n",
              "      border-right-color: var(--fill-color);\n",
              "      border-bottom-color: var(--fill-color);\n",
              "    }\n",
              "    90% {\n",
              "      border-color: transparent;\n",
              "      border-bottom-color: var(--fill-color);\n",
              "    }\n",
              "  }\n",
              "</style>\n",
              "\n",
              "  <script>\n",
              "    async function quickchart(key) {\n",
              "      const quickchartButtonEl =\n",
              "        document.querySelector('#' + key + ' button');\n",
              "      quickchartButtonEl.disabled = true;  // To prevent multiple clicks.\n",
              "      quickchartButtonEl.classList.add('colab-df-spinner');\n",
              "      try {\n",
              "        const charts = await google.colab.kernel.invokeFunction(\n",
              "            'suggestCharts', [key], {});\n",
              "      } catch (error) {\n",
              "        console.error('Error during call to suggestCharts:', error);\n",
              "      }\n",
              "      quickchartButtonEl.classList.remove('colab-df-spinner');\n",
              "      quickchartButtonEl.classList.add('colab-df-quickchart-complete');\n",
              "    }\n",
              "    (() => {\n",
              "      let quickchartButtonEl =\n",
              "        document.querySelector('#df-bf904018-42e2-4824-86a4-e8b6934ebeec button');\n",
              "      quickchartButtonEl.style.display =\n",
              "        google.colab.kernel.accessAllowed ? 'block' : 'none';\n",
              "    })();\n",
              "  </script>\n",
              "</div>\n",
              "\n",
              "    </div>\n",
              "  </div>\n"
            ],
            "application/vnd.google.colaboratory.intrinsic+json": {
              "type": "dataframe"
            }
          },
          "metadata": {},
          "execution_count": 5
        }
      ]
    },
    {
      "cell_type": "markdown",
      "source": [
        "# **Information About the Data**"
      ],
      "metadata": {
        "id": "tAI-JMhJ4JvF"
      }
    },
    {
      "cell_type": "markdown",
      "source": [
        ".info() method prints information about a DataFrame including the index dtype and columns, non-null values, and memory usage"
      ],
      "metadata": {
        "id": "zFWZU-_B4QZL"
      }
    },
    {
      "cell_type": "code",
      "source": [
        "stock_data.info()"
      ],
      "metadata": {
        "colab": {
          "base_uri": "https://localhost:8080/"
        },
        "id": "7POiQ8sj3ePa",
        "outputId": "006d54e8-ab00-47e2-cfd1-b0fd8f606cbc"
      },
      "execution_count": null,
      "outputs": [
        {
          "output_type": "stream",
          "name": "stdout",
          "text": [
            "<class 'pandas.core.frame.DataFrame'>\n",
            "RangeIndex: 5106 entries, 0 to 5105\n",
            "Data columns (total 25 columns):\n",
            " #   Column            Non-Null Count  Dtype         \n",
            "---  ------            --------------  -----         \n",
            " 0   Date              5106 non-null   datetime64[ns]\n",
            " 1   Open              5106 non-null   float64       \n",
            " 2   High              5106 non-null   float64       \n",
            " 3   Low               5106 non-null   float64       \n",
            " 4   Close             5106 non-null   float64       \n",
            " 5   Adj Close         5106 non-null   float64       \n",
            " 6   Volume            5106 non-null   float64       \n",
            " 7   Year              5106 non-null   int64         \n",
            " 8   Month             5106 non-null   int64         \n",
            " 9   Day               5106 non-null   int64         \n",
            " 10  DayOfWeek         5106 non-null   int64         \n",
            " 11  Close_Lag1        5106 non-null   float64       \n",
            " 12  Close_Lag7        5106 non-null   float64       \n",
            " 13  MA_7              5106 non-null   float64       \n",
            " 14  MA_30             5106 non-null   float64       \n",
            " 15  Daily_Return      5106 non-null   float64       \n",
            " 16  Volatility        5106 non-null   float64       \n",
            " 17  Price_Change      5106 non-null   float64       \n",
            " 18  Anomaly           5106 non-null   bool          \n",
            " 19  Volume_Spike      5106 non-null   bool          \n",
            " 20  Buy_Signal        5106 non-null   int64         \n",
            " 21  Sell_Signal       5106 non-null   int64         \n",
            " 22  Trade_Buy_Price   5106 non-null   float64       \n",
            " 23  Trade_Sell_Price  5106 non-null   float64       \n",
            " 24  Trade_Profit_%    5106 non-null   float64       \n",
            "dtypes: bool(2), datetime64[ns](1), float64(16), int64(6)\n",
            "memory usage: 927.6 KB\n"
          ]
        }
      ]
    },
    {
      "cell_type": "markdown",
      "source": [
        "# **Closing Price**"
      ],
      "metadata": {
        "id": "6xOO0K9B8cp8"
      }
    },
    {
      "cell_type": "markdown",
      "source": [
        "The closing price is the last price at which the stock is traded during the regular trading day. A stock’s closing price is the standard benchmark used by investors to track its performance over time."
      ],
      "metadata": {
        "id": "zlL_NYNi8bmo"
      }
    },
    {
      "source": [
        "#plot close price\n",
        "# Parse dates\n",
        "stock_data['Date'] = pd.to_datetime(stock_data['Date'])\n",
        "\n",
        "# Set date as index\n",
        "stock_data.set_index('Date', inplace=True)\n",
        "\n",
        "# Plot\n",
        "plt.figure(figsize=(10, 6))\n",
        "plt.plot(stock_data['Close'])\n",
        "plt.title(\"Nvidia Corporation Closing Price\")\n",
        "plt.xlabel(\"Year\")\n",
        "plt.ylabel(\"Price\")\n",
        "plt.show()"
      ],
      "cell_type": "code",
      "metadata": {
        "colab": {
          "base_uri": "https://localhost:8080/",
          "height": 423
        },
        "id": "wTVChXxmXdcE",
        "outputId": "77b3bed7-fe4d-4cf4-ac2d-ade700e2e763"
      },
      "execution_count": null,
      "outputs": [
        {
          "output_type": "display_data",
          "data": {
            "text/plain": [
              "<Figure size 1000x600 with 1 Axes>"
            ],
            "image/png": "[encoded data removed]"
          },
          "metadata": {}
        }
      ]
    },
    {
      "cell_type": "markdown",
      "source": [
        "# **Data Preparation and Scaling**"
      ],
      "metadata": {
        "id": "hf1Pxd-zhMhL"
      }
    },
    {
      "cell_type": "markdown",
      "source": [
        "Here we are using a dataset of Stock Market Predicition using LSTM. We load the dataset of Stock Market Predicition. The “Date” column is converted to datetime format for time series analysis.We scale the data to a range of [0, 1] using MinMaxScaler to help the model train more effectively."
      ],
      "metadata": {
        "id": "zD-EUkq9hRy8"
      }
    },
    {
      "cell_type": "code",
      "source": [
        "scaler = MinMaxScaler(feature_range=(0, 1))\n",
        "scaled_data = scaler.fit_transform(stock_data['Close'].values.reshape(-1, 1))"
      ],
      "metadata": {
        "id": "MC_o4NFI7Pmk"
      },
      "execution_count": null,
      "outputs": []
    },
    {
      "cell_type": "markdown",
      "source": [
        "# **Creating Sequences and Train-Test Split**"
      ],
      "metadata": {
        "id": "jKIwg_nbiUGR"
      }
    },
    {
      "cell_type": "markdown",
      "source": [
        "Here, we generate sequences of input data and split the dataset into training and testing sets.The dataset is split into training and testing sets, and reshaped to match the LSTM input shape."
      ],
      "metadata": {
        "id": "gOxGD479ia__"
      }
    },
    {
      "cell_type": "code",
      "source": [
        "def create_sequences(data, sequence_length):\n",
        "    sequences, targets = [], []\n",
        "    for i in range(len(data) - sequence_length):\n",
        "        sequences.append(data[i:i + sequence_length])\n",
        "        targets.append(data[i + sequence_length])\n",
        "    return np.array(sequences), np.array(targets)\n",
        "\n",
        "sequence_length = 60\n",
        "X, y = create_sequences(scaled_data, sequence_length)\n",
        "\n",
        "train_size = int(len(X) * 0.8)\n",
        "X_train, X_test = X[:train_size], X[train_size:]\n",
        "y_train, y_test = y[:train_size], y[train_size:]"
      ],
      "metadata": {
        "id": "Qi62008U7Tgu"
      },
      "execution_count": null,
      "outputs": []
    },
    {
      "cell_type": "markdown",
      "source": [
        "# **Build LSTM model**"
      ],
      "metadata": {
        "id": "ksDWBeBBjFRb"
      }
    },
    {
      "cell_type": "markdown",
      "source": [
        "This step involves defining and building the LSTM model architecture.The model consists of two LSTM layers, each with 50 units, and a dropout layer after each to prevent overfitting.The model concludes with a Dense layer to predict a single value (next month’s predicition)."
      ],
      "metadata": {
        "id": "SnG8uugKjN_T"
      }
    },
    {
      "cell_type": "code",
      "source": [
        "model = Sequential()\n",
        "model.add(LSTM(units=50, return_sequences=True, input_shape=(X_train.shape[1], 1)))\n",
        "model.add(Dropout(0.2))\n",
        "model.add(LSTM(units=50, return_sequences=False))\n",
        "model.add(Dropout(0.2))\n",
        "model.add(Dense(units=1))\n",
        "\n",
        "model.compile(optimizer='adam', loss='mean_squared_error')"
      ],
      "metadata": {
        "id": "tbiBFJBI7gMq",
        "colab": {
          "base_uri": "https://localhost:8080/"
        },
        "outputId": "c2380963-9085-4df5-ee14-fbb9f666c036"
      },
      "execution_count": null,
      "outputs": [
        {
          "output_type": "stream",
          "name": "stderr",
          "text": [
            "/usr/local/lib/python3.11/dist-packages/keras/src/layers/rnn/rnn.py:200: UserWarning: Do not pass an `input_shape`/`input_dim` argument to a layer. When using Sequential models, prefer using an `Input(shape)` object as the first layer in the model instead.\n",
            "  super().__init__(**kwargs)\n"
          ]
        }
      ]
    },
    {
      "cell_type": "markdown",
      "source": [
        "# **Training and Evaluating the Model**"
      ],
      "metadata": {
        "id": "WJlv4okLjjRl"
      }
    },
    {
      "cell_type": "markdown",
      "source": [
        "In this step, we train the model on the training data and evaluate its performance.The model is trained for 50 epochs using a batch size of 32, with 10% of the training data used for validation.After training, the model is used to make predictions on the test set, and we calculate the Root Mean Squared Error (RMSE) to evaluate performance"
      ],
      "metadata": {
        "id": "SSXGz_rTjuC3"
      }
    },
    {
      "cell_type": "code",
      "source": [
        "history = model.fit(X_train, y_train, epochs=50, batch_size=32, validation_data=(X_test, y_test))\n",
        "predictions = model.predict(X_test)\n",
        "predictions = scaler.inverse_transform(predictions).flatten()\n",
        "y_test = scaler.inverse_transform(y_test.reshape(-1,1)).flatten()\n",
        "\n",
        "rmse = np.sqrt(np.mean((y_test - predictions)**2))\n",
        "print(f'RMSE: {rmse:.2f}')"
      ],
      "metadata": {
        "colab": {
          "base_uri": "https://localhost:8080/"
        },
        "id": "gMy-qq2r7i7o",
        "outputId": "8f4795a5-c74d-4384-ffb4-a73a4ea01afa"
      },
      "execution_count": null,
      "outputs": [
        {
          "output_type": "stream",
          "name": "stdout",
          "text": [
            "Epoch 1/50\n",
            "\u001b[1m127/127\u001b[0m \u001b[32m━━━━━━━━━━━━━━━━━━━━\u001b[0m\u001b[37m\u001b[0m \u001b[1m14s\u001b[0m 80ms/step - loss: 1.3687e-04 - val_loss: 0.0034\n",
            "Epoch 2/50\n",
            "\u001b[1m127/127\u001b[0m \u001b[32m━━━━━━━━━━━━━━━━━━━━\u001b[0m\u001b[37m\u001b[0m \u001b[1m8s\u001b[0m 63ms/step - loss: 8.6871e-06 - val_loss: 0.0013\n",
            "Epoch 3/50\n",
            "\u001b[1m127/127\u001b[0m \u001b[32m━━━━━━━━━━━━━━━━━━━━\u001b[0m\u001b[37m\u001b[0m \u001b[1m11s\u001b[0m 71ms/step - loss: 8.6218e-06 - val_loss: 0.0057\n",
            "Epoch 4/50\n",
            "\u001b[1m127/127\u001b[0m \u001b[32m━━━━━━━━━━━━━━━━━━━━\u001b[0m\u001b[37m\u001b[0m \u001b[1m11s\u001b[0m 74ms/step - loss: 1.1016e-05 - val_loss: 0.0019\n",
            "Epoch 5/50\n",
            "\u001b[1m127/127\u001b[0m \u001b[32m━━━━━━━━━━━━━━━━━━━━\u001b[0m\u001b[37m\u001b[0m \u001b[1m9s\u001b[0m 67ms/step - loss: 9.9511e-06 - val_loss: 0.0024\n",
            "Epoch 6/50\n",
            "\u001b[1m127/127\u001b[0m \u001b[32m━━━━━━━━━━━━━━━━━━━━\u001b[0m\u001b[37m\u001b[0m \u001b[1m9s\u001b[0m 69ms/step - loss: 6.1338e-06 - val_loss: 0.0011\n",
            "Epoch 7/50\n",
            "\u001b[1m127/127\u001b[0m \u001b[32m━━━━━━━━━━━━━━━━━━━━\u001b[0m\u001b[37m\u001b[0m \u001b[1m9s\u001b[0m 74ms/step - loss: 5.9912e-06 - val_loss: 0.0031\n",
            "Epoch 8/50\n",
            "\u001b[1m127/127\u001b[0m \u001b[32m━━━━━━━━━━━━━━━━━━━━\u001b[0m\u001b[37m\u001b[0m \u001b[1m8s\u001b[0m 63ms/step - loss: 6.8958e-06 - val_loss: 7.9948e-04\n",
            "Epoch 9/50\n",
            "\u001b[1m127/127\u001b[0m \u001b[32m━━━━━━━━━━━━━━━━━━━━\u001b[0m\u001b[37m\u001b[0m \u001b[1m9s\u001b[0m 75ms/step - loss: 5.0281e-06 - val_loss: 0.0015\n",
            "Epoch 10/50\n",
            "\u001b[1m127/127\u001b[0m \u001b[32m━━━━━━━━━━━━━━━━━━━━\u001b[0m\u001b[37m\u001b[0m \u001b[1m10s\u001b[0m 77ms/step - loss: 6.9756e-06 - val_loss: 7.7723e-04\n",
            "Epoch 11/50\n",
            "\u001b[1m127/127\u001b[0m \u001b[32m━━━━━━━━━━━━━━━━━━━━\u001b[0m\u001b[37m\u001b[0m \u001b[1m8s\u001b[0m 63ms/step - loss: 4.9527e-06 - val_loss: 0.0012\n",
            "Epoch 12/50\n",
            "\u001b[1m127/127\u001b[0m \u001b[32m━━━━━━━━━━━━━━━━━━━━\u001b[0m\u001b[37m\u001b[0m \u001b[1m9s\u001b[0m 74ms/step - loss: 5.4840e-06 - val_loss: 6.4174e-04\n",
            "Epoch 13/50\n",
            "\u001b[1m127/127\u001b[0m \u001b[32m━━━━━━━━━━━━━━━━━━━━\u001b[0m\u001b[37m\u001b[0m \u001b[1m9s\u001b[0m 70ms/step - loss: 7.0090e-06 - val_loss: 0.0011\n",
            "Epoch 14/50\n",
            "\u001b[1m127/127\u001b[0m \u001b[32m━━━━━━━━━━━━━━━━━━━━\u001b[0m\u001b[37m\u001b[0m \u001b[1m9s\u001b[0m 63ms/step - loss: 6.1857e-06 - val_loss: 6.6283e-04\n",
            "Epoch 15/50\n",
            "\u001b[1m127/127\u001b[0m \u001b[32m━━━━━━━━━━━━━━━━━━━━\u001b[0m\u001b[37m\u001b[0m \u001b[1m10s\u001b[0m 76ms/step - loss: 6.4499e-06 - val_loss: 6.8268e-04\n",
            "Epoch 16/50\n",
            "\u001b[1m127/127\u001b[0m \u001b[32m━━━━━━━━━━━━━━━━━━━━\u001b[0m\u001b[37m\u001b[0m \u001b[1m9s\u001b[0m 73ms/step - loss: 6.7572e-06 - val_loss: 8.1899e-04\n",
            "Epoch 17/50\n",
            "\u001b[1m127/127\u001b[0m \u001b[32m━━━━━━━━━━━━━━━━━━━━\u001b[0m\u001b[37m\u001b[0m \u001b[1m9s\u001b[0m 62ms/step - loss: 4.8367e-06 - val_loss: 8.5371e-04\n",
            "Epoch 18/50\n",
            "\u001b[1m127/127\u001b[0m \u001b[32m━━━━━━━━━━━━━━━━━━━━\u001b[0m\u001b[37m\u001b[0m \u001b[1m11s\u001b[0m 71ms/step - loss: 5.2686e-06 - val_loss: 5.7375e-04\n",
            "Epoch 19/50\n",
            "\u001b[1m127/127\u001b[0m \u001b[32m━━━━━━━━━━━━━━━━━━━━\u001b[0m\u001b[37m\u001b[0m \u001b[1m11s\u001b[0m 75ms/step - loss: 6.1284e-06 - val_loss: 7.1064e-04\n",
            "Epoch 20/50\n",
            "\u001b[1m127/127\u001b[0m \u001b[32m━━━━━━━━━━━━━━━━━━━━\u001b[0m\u001b[37m\u001b[0m \u001b[1m8s\u001b[0m 63ms/step - loss: 6.3690e-06 - val_loss: 0.0017\n",
            "Epoch 21/50\n",
            "\u001b[1m127/127\u001b[0m \u001b[32m━━━━━━━━━━━━━━━━━━━━\u001b[0m\u001b[37m\u001b[0m \u001b[1m10s\u001b[0m 77ms/step - loss: 4.6982e-06 - val_loss: 5.7005e-04\n",
            "Epoch 22/50\n",
            "\u001b[1m127/127\u001b[0m \u001b[32m━━━━━━━━━━━━━━━━━━━━\u001b[0m\u001b[37m\u001b[0m \u001b[1m10s\u001b[0m 79ms/step - loss: 4.8842e-06 - val_loss: 8.6259e-04\n",
            "Epoch 23/50\n",
            "\u001b[1m127/127\u001b[0m \u001b[32m━━━━━━━━━━━━━━━━━━━━\u001b[0m\u001b[37m\u001b[0m \u001b[1m8s\u001b[0m 64ms/step - loss: 7.0972e-06 - val_loss: 8.0717e-04\n",
            "Epoch 24/50\n",
            "\u001b[1m127/127\u001b[0m \u001b[32m━━━━━━━━━━━━━━━━━━━━\u001b[0m\u001b[37m\u001b[0m \u001b[1m11s\u001b[0m 70ms/step - loss: 6.5627e-06 - val_loss: 0.0010\n",
            "Epoch 25/50\n",
            "\u001b[1m127/127\u001b[0m \u001b[32m━━━━━━━━━━━━━━━━━━━━\u001b[0m\u001b[37m\u001b[0m \u001b[1m11s\u001b[0m 77ms/step - loss: 4.5919e-06 - val_loss: 5.6305e-04\n",
            "Epoch 26/50\n",
            "\u001b[1m127/127\u001b[0m \u001b[32m━━━━━━━━━━━━━━━━━━━━\u001b[0m\u001b[37m\u001b[0m \u001b[1m9s\u001b[0m 70ms/step - loss: 5.2566e-06 - val_loss: 9.2479e-04\n",
            "Epoch 27/50\n",
            "\u001b[1m127/127\u001b[0m \u001b[32m━━━━━━━━━━━━━━━━━━━━\u001b[0m\u001b[37m\u001b[0m \u001b[1m8s\u001b[0m 66ms/step - loss: 5.4020e-06 - val_loss: 5.9377e-04\n",
            "Epoch 28/50\n",
            "\u001b[1m127/127\u001b[0m \u001b[32m━━━━━━━━━━━━━━━━━━━━\u001b[0m\u001b[37m\u001b[0m \u001b[1m11s\u001b[0m 76ms/step - loss: 5.4290e-06 - val_loss: 5.7837e-04\n",
            "Epoch 29/50\n",
            "\u001b[1m127/127\u001b[0m \u001b[32m━━━━━━━━━━━━━━━━━━━━\u001b[0m\u001b[37m\u001b[0m \u001b[1m9s\u001b[0m 72ms/step - loss: 5.1041e-06 - val_loss: 4.8916e-04\n",
            "Epoch 30/50\n",
            "\u001b[1m127/127\u001b[0m \u001b[32m━━━━━━━━━━━━━━━━━━━━\u001b[0m\u001b[37m\u001b[0m \u001b[1m8s\u001b[0m 65ms/step - loss: 4.7421e-06 - val_loss: 0.0011\n",
            "Epoch 31/50\n",
            "\u001b[1m127/127\u001b[0m \u001b[32m━━━━━━━━━━━━━━━━━━━━\u001b[0m\u001b[37m\u001b[0m \u001b[1m11s\u001b[0m 75ms/step - loss: 5.6140e-06 - val_loss: 7.4111e-04\n",
            "Epoch 32/50\n",
            "\u001b[1m127/127\u001b[0m \u001b[32m━━━━━━━━━━━━━━━━━━━━\u001b[0m\u001b[37m\u001b[0m \u001b[1m10s\u001b[0m 72ms/step - loss: 5.6639e-06 - val_loss: 0.0012\n",
            "Epoch 33/50\n",
            "\u001b[1m127/127\u001b[0m \u001b[32m━━━━━━━━━━━━━━━━━━━━\u001b[0m\u001b[37m\u001b[0m \u001b[1m9s\u001b[0m 62ms/step - loss: 9.7175e-06 - val_loss: 4.7163e-04\n",
            "Epoch 34/50\n",
            "\u001b[1m127/127\u001b[0m \u001b[32m━━━━━━━━━━━━━━━━━━━━\u001b[0m\u001b[37m\u001b[0m \u001b[1m9s\u001b[0m 74ms/step - loss: 5.0239e-06 - val_loss: 4.9565e-04\n",
            "Epoch 35/50\n",
            "\u001b[1m127/127\u001b[0m \u001b[32m━━━━━━━━━━━━━━━━━━━━\u001b[0m\u001b[37m\u001b[0m \u001b[1m9s\u001b[0m 72ms/step - loss: 3.9797e-06 - val_loss: 6.7805e-04\n",
            "Epoch 36/50\n",
            "\u001b[1m127/127\u001b[0m \u001b[32m━━━━━━━━━━━━━━━━━━━━\u001b[0m\u001b[37m\u001b[0m \u001b[1m11s\u001b[0m 75ms/step - loss: 4.7005e-06 - val_loss: 0.0013\n",
            "Epoch 37/50\n",
            "\u001b[1m127/127\u001b[0m \u001b[32m━━━━━━━━━━━━━━━━━━━━\u001b[0m\u001b[37m\u001b[0m \u001b[1m10s\u001b[0m 71ms/step - loss: 6.5497e-06 - val_loss: 7.5218e-04\n",
            "Epoch 38/50\n",
            "\u001b[1m127/127\u001b[0m \u001b[32m━━━━━━━━━━━━━━━━━━━━\u001b[0m\u001b[37m\u001b[0m \u001b[1m11s\u001b[0m 75ms/step - loss: 4.2727e-06 - val_loss: 5.7454e-04\n",
            "Epoch 39/50\n",
            "\u001b[1m127/127\u001b[0m \u001b[32m━━━━━━━━━━━━━━━━━━━━\u001b[0m\u001b[37m\u001b[0m \u001b[1m10s\u001b[0m 69ms/step - loss: 4.6991e-06 - val_loss: 7.3324e-04\n",
            "Epoch 40/50\n",
            "\u001b[1m127/127\u001b[0m \u001b[32m━━━━━━━━━━━━━━━━━━━━\u001b[0m\u001b[37m\u001b[0m \u001b[1m9s\u001b[0m 62ms/step - loss: 6.0692e-06 - val_loss: 5.4835e-04\n",
            "Epoch 41/50\n",
            "\u001b[1m127/127\u001b[0m \u001b[32m━━━━━━━━━━━━━━━━━━━━\u001b[0m\u001b[37m\u001b[0m \u001b[1m12s\u001b[0m 72ms/step - loss: 4.7257e-06 - val_loss: 5.9011e-04\n",
            "Epoch 42/50\n",
            "\u001b[1m127/127\u001b[0m \u001b[32m━━━━━━━━━━━━━━━━━━━━\u001b[0m\u001b[37m\u001b[0m \u001b[1m10s\u001b[0m 74ms/step - loss: 5.4438e-06 - val_loss: 5.8990e-04\n",
            "Epoch 43/50\n",
            "\u001b[1m127/127\u001b[0m \u001b[32m━━━━━━━━━━━━━━━━━━━━\u001b[0m\u001b[37m\u001b[0m \u001b[1m13s\u001b[0m 93ms/step - loss: 4.8041e-06 - val_loss: 0.0011\n",
            "Epoch 44/50\n",
            "\u001b[1m127/127\u001b[0m \u001b[32m━━━━━━━━━━━━━━━━━━━━\u001b[0m\u001b[37m\u001b[0m \u001b[1m18s\u001b[0m 76ms/step - loss: 5.2679e-06 - val_loss: 7.3366e-04\n",
            "Epoch 45/50\n",
            "\u001b[1m127/127\u001b[0m \u001b[32m━━━━━━━━━━━━━━━━━━━━\u001b[0m\u001b[37m\u001b[0m \u001b[1m9s\u001b[0m 70ms/step - loss: 4.0263e-06 - val_loss: 6.9238e-04\n",
            "Epoch 46/50\n",
            "\u001b[1m127/127\u001b[0m \u001b[32m━━━━━━━━━━━━━━━━━━━━\u001b[0m\u001b[37m\u001b[0m \u001b[1m9s\u001b[0m 63ms/step - loss: 4.7003e-06 - val_loss: 0.0010\n",
            "Epoch 47/50\n",
            "\u001b[1m127/127\u001b[0m \u001b[32m━━━━━━━━━━━━━━━━━━━━\u001b[0m\u001b[37m\u001b[0m \u001b[1m10s\u001b[0m 75ms/step - loss: 3.9327e-06 - val_loss: 6.1427e-04\n",
            "Epoch 48/50\n",
            "\u001b[1m127/127\u001b[0m \u001b[32m━━━━━━━━━━━━━━━━━━━━\u001b[0m\u001b[37m\u001b[0m \u001b[1m10s\u001b[0m 72ms/step - loss: 5.0862e-06 - val_loss: 0.0014\n",
            "Epoch 49/50\n",
            "\u001b[1m127/127\u001b[0m \u001b[32m━━━━━━━━━━━━━━━━━━━━\u001b[0m\u001b[37m\u001b[0m \u001b[1m9s\u001b[0m 63ms/step - loss: 5.1527e-06 - val_loss: 8.5790e-04\n",
            "Epoch 50/50\n",
            "\u001b[1m127/127\u001b[0m \u001b[32m━━━━━━━━━━━━━━━━━━━━\u001b[0m\u001b[37m\u001b[0m \u001b[1m11s\u001b[0m 72ms/step - loss: 5.6095e-06 - val_loss: 5.2575e-04\n",
            "\u001b[1m32/32\u001b[0m \u001b[32m━━━━━━━━━━━━━━━━━━━━\u001b[0m\u001b[37m\u001b[0m \u001b[1m1s\u001b[0m 27ms/step\n",
            "RMSE: 0.02\n"
          ]
        }
      ]
    },
    {
      "cell_type": "code",
      "source": [
        "# Evaluate and predict\n",
        "y_pred = model.predict(X_test)\n",
        "y_pred = scaler.inverse_transform(y_pred)\n",
        "y_test_rescaled = scaler.inverse_transform(y_test.reshape(-1, 1))"
      ],
      "metadata": {
        "colab": {
          "base_uri": "https://localhost:8080/"
        },
        "id": "rihjeksy70xf",
        "outputId": "2ac0bd66-b077-46d8-ab44-ed8a0a7e9af6"
      },
      "execution_count": null,
      "outputs": [
        {
          "output_type": "stream",
          "name": "stdout",
          "text": [
            "\u001b[1m32/32\u001b[0m \u001b[32m━━━━━━━━━━━━━━━━━━━━\u001b[0m\u001b[37m\u001b[0m \u001b[1m1s\u001b[0m 18ms/step\n"
          ]
        }
      ]
    },
    {
      "cell_type": "markdown",
      "source": [
        "## **Visualizing Model Performance**"
      ],
      "metadata": {
        "id": "VljeeU0VkHFg"
      }
    },
    {
      "cell_type": "markdown",
      "source": [
        "In this step, we visualize the actual vs predicted price. A plot is generated to compare the actual stock price against the predicted price, allowing us to evaluate how well the model performs over time.\n"
      ],
      "metadata": {
        "id": "T-75ua8wkNQw"
      }
    },
    {
      "source": [
        "# Assuming your stock_data DataFrame has a 'Date' column as index\n",
        "dates_test = stock_data.index[train_size + sequence_length:]\n",
        "\n",
        "print(len(dates_test), len(y_test), len(predictions))"
      ],
      "cell_type": "code",
      "metadata": {
        "colab": {
          "base_uri": "https://localhost:8080/"
        },
        "id": "3vrFTRpchp6N",
        "outputId": "660777c1-a223-4a9d-f76b-c95c4fd5f627"
      },
      "execution_count": null,
      "outputs": [
        {
          "output_type": "stream",
          "name": "stdout",
          "text": [
            "1010 1010 1010\n"
          ]
        }
      ]
    },
    {
      "cell_type": "code",
      "source": [
        "plt.figure(figsize=(10, 6))\n",
        "plt.plot(dates_test, y_test, label='Actual Production', color='blue')\n",
        "plt.plot(dates_test, predictions, label='Predicted Production', color='orange')\n",
        "plt.title('Actual vs Predicted Nvidia Stock Prediction')\n",
        "plt.xlabel('Date')\n",
        "plt.ylabel('Production (pounds per cow)')\n",
        "plt.legend()\n",
        "plt.show()"
      ],
      "metadata": {
        "colab": {
          "base_uri": "https://localhost:8080/",
          "height": 423
        },
        "id": "PUtXBzSk2Uj8",
        "outputId": "3a9e3d9c-dd04-4b56-8ced-a5292355bfc4"
      },
      "execution_count": null,
      "outputs": [
        {
          "output_type": "display_data",
          "data": {
            "text/plain": [
              "<Figure size 1000x600 with 1 Axes>"
            ],
            "image/png": "[encoded data removed]"
          },
          "metadata": {}
        }
      ]
    },
    {
      "cell_type": "markdown",
      "source": [
        "# **ARIMA for Time Series Forecasting**"
      ],
      "metadata": {
        "id": "nuQhgHnHnRok"
      }
    },
    {
      "cell_type": "markdown",
      "source": [
        "**Install packages**"
      ],
      "metadata": {
        "id": "2yKTlanunfIt"
      }
    },
    {
      "cell_type": "code",
      "source": [
        "import pandas as pd\n",
        "import numpy as np\n",
        "import seaborn as sns\n",
        "import matplotlib.pyplot as plt\n",
        "from statsmodels.tsa.stattools import adfuller\n",
        "from statsmodels.graphics.tsaplots import plot_acf, plot_pacf\n",
        "from statsmodels.tsa.arima.model import ARIMA\n",
        "from sklearn.metrics import mean_squared_error"
      ],
      "metadata": {
        "id": "vGFCGwtUsD39"
      },
      "execution_count": null,
      "outputs": []
    },
    {
      "cell_type": "markdown",
      "source": [
        "## **Check for stationarity and perform differencing if necessary**"
      ],
      "metadata": {
        "id": "B87XkAIUtbDD"
      }
    },
    {
      "cell_type": "markdown",
      "source": [
        "While ARIMA models can deal with non-stationarity up to a point, they cannot effectively account for time-varying variance. In other words, for an ARIMA model to really work, the data has to be stationary.Looking at the plot, above, we can see that the data is, in fact, not stationary because there is a clear trend. Also, it looks like there is non-constant variance at different time points. We can use the Augmented Dickey-Fuller test to test our intuition and see if our data has a constant mean and variance, and put numbers to it"
      ],
      "metadata": {
        "id": "gWlzJNMetiVP"
      }
    },
    {
      "cell_type": "code",
      "source": [
        "# Perform the Augmented Dickey-Fuller test on the original series\n",
        "result_original = adfuller(stock_data[\"Close\"])\n",
        "\n",
        "print(f\"ADF Statistic (Original): {result_original[0]:.4f}\")\n",
        "print(f\"p-value (Original): {result_original[1]:.4f}\")\n",
        "\n",
        "if result_original[1] < 0.05:\n",
        "    print(\"Interpretation: The original series is Stationary.\\n\")\n",
        "else:\n",
        "    print(\"Interpretation: The original series is Non-Stationary.\\n\")\n",
        "\n",
        "# Apply first-order differencing\n",
        "stock_data['Close_Diff'] = stock_data['Close'].diff()\n",
        "\n",
        "# Perform the Augmented Dickey-Fuller test on the differenced series\n",
        "result_diff = adfuller(stock_data[\"Close_Diff\"].dropna())\n",
        "print(f\"ADF Statistic (Differenced): {result_diff[0]:.4f}\")\n",
        "print(f\"p-value (Differenced): {result_diff[1]:.4f}\")\n",
        "if result_diff[1] < 0.05:\n",
        "    print(\"Interpretation: The differenced series is Stationary.\")\n",
        "else:\n",
        "    print(\"Interpretation: The differenced series is Non-Stationary.\")\n"
      ],
      "metadata": {
        "id": "-Prrd0zotJgv",
        "colab": {
          "base_uri": "https://localhost:8080/"
        },
        "outputId": "45644d0d-b846-4afa-a220-fad280f1d184"
      },
      "execution_count": null,
      "outputs": [
        {
          "output_type": "stream",
          "name": "stdout",
          "text": [
            "ADF Statistic (Original): 1.1706\n",
            "p-value (Original): 0.9958\n",
            "Interpretation: The original series is Non-Stationary.\n",
            "\n",
            "ADF Statistic (Differenced): -9.5058\n",
            "p-value (Differenced): 0.0000\n",
            "Interpretation: The differenced series is Stationary.\n"
          ]
        }
      ]
    },
    {
      "cell_type": "markdown",
      "source": [
        "## Forecasting"
      ],
      "metadata": {
        "id": "ggyOF8LUoV2R"
      }
    },
    {
      "cell_type": "markdown",
      "source": [
        "To forecast using an ARIMA model, start by using the fitted model to predict future values based on the data. Once predictions are made, it's helpful to visualize them by plotting the predicted values alongside the actual values. This is accomplished because we use a train/test workflow, where the data is split into training and testing sets"
      ],
      "metadata": {
        "id": "_KfNI3QloZCs"
      }
    },
    {
      "cell_type": "markdown",
      "source": [
        "# **Use a train and test workflow**"
      ],
      "metadata": {
        "id": "AO1DT5sXogdY"
      }
    },
    {
      "cell_type": "markdown",
      "source": [
        "Our first step is to split the data into training and testing versions"
      ],
      "metadata": {
        "id": "DfvdAzjyoqh_"
      }
    },
    {
      "cell_type": "code",
      "source": [
        "# Split data into train and test\n",
        "train_size = int(len(stock_data) * 0.8)\n",
        "train, test = stock_data.iloc[:train_size], stock_data.iloc[train_size:]\n",
        "\n",
        "# Fit ARIMA model\n",
        "model = ARIMA(train[\"Close\"], order=(1,1,1))\n",
        "model_fit = model.fit()"
      ],
      "metadata": {
        "id": "WLS7NLgknxnt",
        "colab": {
          "base_uri": "https://localhost:8080/"
        },
        "outputId": "939af514-947e-4893-c5f0-4c2285b4b4f5"
      },
      "execution_count": null,
      "outputs": [
        {
          "output_type": "stream",
          "name": "stderr",
          "text": [
            "/usr/local/lib/python3.11/dist-packages/statsmodels/tsa/base/tsa_model.py:473: ValueWarning: A date index has been provided, but it has no associated frequency information and so will be ignored when e.g. forecasting.\n",
            "  self._init_dates(dates, freq)\n",
            "/usr/local/lib/python3.11/dist-packages/statsmodels/tsa/base/tsa_model.py:473: ValueWarning: A date index has been provided, but it has no associated frequency information and so will be ignored when e.g. forecasting.\n",
            "  self._init_dates(dates, freq)\n",
            "/usr/local/lib/python3.11/dist-packages/statsmodels/tsa/base/tsa_model.py:473: ValueWarning: A date index has been provided, but it has no associated frequency information and so will be ignored when e.g. forecasting.\n",
            "  self._init_dates(dates, freq)\n",
            "/usr/local/lib/python3.11/dist-packages/statsmodels/base/model.py:607: ConvergenceWarning: Maximum Likelihood optimization failed to converge. Check mle_retvals\n",
            "  warnings.warn(\"Maximum Likelihood optimization failed to \"\n"
          ]
        }
      ]
    },
    {
      "cell_type": "markdown",
      "source": [
        "## **Visualize our time series**"
      ],
      "metadata": {
        "id": "n_HmdNI5o-XV"
      }
    },
    {
      "cell_type": "markdown",
      "source": [
        "Our next step is to create our forecast and also to visually inspect it. We can see how our forecast performs against the testing version of our data"
      ],
      "metadata": {
        "id": "-rFECoVVpCHF"
      }
    },
    {
      "cell_type": "code",
      "source": [
        "# Forecast\n",
        "forecast = model_fit.forecast(steps=len(test))\n",
        "\n",
        "# Plot the results with specified colors\n",
        "plt.figure(figsize=(14,7))\n",
        "plt.plot(train.index, train[\"Close\"], label='Train', color='#203147')\n",
        "plt.plot(test.index, test[\"Close\"], label='Test', color='#01ef63')\n",
        "plt.plot(test.index, forecast, label='Forecast', color='orange')\n",
        "plt.title('Close Price Forecast')\n",
        "plt.xlabel('Date')\n",
        "plt.ylabel('Close Price')\n",
        "plt.legend()\n",
        "plt.show()"
      ],
      "metadata": {
        "id": "OjYcNkUn8sY7",
        "colab": {
          "base_uri": "https://localhost:8080/",
          "height": 444
        },
        "outputId": "d16bb575-229a-4b9d-9a1d-c0a10ac3546a"
      },
      "execution_count": null,
      "outputs": [
        {
          "output_type": "stream",
          "name": "stderr",
          "text": [
            "/usr/local/lib/python3.11/dist-packages/statsmodels/tsa/base/tsa_model.py:837: ValueWarning: No supported index is available. Prediction results will be given with an integer index beginning at `start`.\n",
            "  return get_prediction_index(\n",
            "/usr/local/lib/python3.11/dist-packages/statsmodels/tsa/base/tsa_model.py:837: FutureWarning: No supported index is available. In the next version, calling this method in a model without a supported index will result in an exception.\n",
            "  return get_prediction_index(\n"
          ]
        },
        {
          "output_type": "display_data",
          "data": {
            "text/plain": [
              "<Figure size 1400x700 with 1 Axes>"
            ],
            "image/png": "[encoded data removed]"
          },
          "metadata": {}
        }
      ]
    },
    {
      "cell_type": "markdown",
      "source": [
        "# **Evaluate model statistics**"
      ],
      "metadata": {
        "id": "mjygppH0vCTe"
      }
    },
    {
      "cell_type": "markdown",
      "source": [
        "We check out the AIC and BIC model statistics. Lower values mean the model fits better, but we might also compare the results with those from simpler models to avoid overfitting."
      ],
      "metadata": {
        "id": "dqsgrVdavIxR"
      }
    },
    {
      "cell_type": "code",
      "source": [
        "print(f\"AIC: {model_fit.aic}\")\n",
        "print(f\"BIC: {model_fit.bic}\")"
      ],
      "metadata": {
        "id": "QEwxm1QJvAiz",
        "colab": {
          "base_uri": "https://localhost:8080/"
        },
        "outputId": "947ad394-71e5-48b6-c261-7a9a1eb8fda3"
      },
      "execution_count": null,
      "outputs": [
        {
          "output_type": "stream",
          "name": "stdout",
          "text": [
            "AIC: -48106.405000659215\n",
            "BIC: -48087.461238785254\n"
          ]
        }
      ]
    },
    {
      "cell_type": "code",
      "source": [
        "forecast = forecast[:len(test)]\n",
        "test_close = test[\"Close\"][:len(forecast)]\n",
        "\n",
        "# Calculate RMSE\n",
        "rmse = np.sqrt(mean_squared_error(test_close, forecast))\n",
        "print(f\"RMSE: {rmse:.4f}\")"
      ],
      "metadata": {
        "id": "tLF-GDTU80T7",
        "colab": {
          "base_uri": "https://localhost:8080/"
        },
        "outputId": "ba51a4d5-a2e7-421a-da18-1bb4c0b517d5"
      },
      "execution_count": null,
      "outputs": [
        {
          "output_type": "stream",
          "name": "stdout",
          "text": [
            "RMSE: 0.3613\n"
          ]
        }
      ]
    }
  ]
}